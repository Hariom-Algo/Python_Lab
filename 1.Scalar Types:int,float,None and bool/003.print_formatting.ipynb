{
 "cells": [
  {
   "cell_type": "markdown",
   "metadata": {},
   "source": [
    "# Print Formatting\n",
    "\n",
    "In this lecture we will briefly cover the various ways to format your print statements. As you code more and more, you will probably want to have print statements that can take in a variable into a printed string statement.\n",
    "\n",
    "The most basic example of a print statement is:"
   ]
  },
  {
   "cell_type": "code",
   "execution_count": 1,
   "metadata": {},
   "outputs": [
    {
     "name": "stdout",
     "output_type": "stream",
     "text": [
      "This is a good example\n"
     ]
    }
   ],
   "source": [
    "print(\"This is a good example\")"
   ]
  },
  {
   "cell_type": "markdown",
   "metadata": {},
   "source": [
    "# Strings\n",
    "You can use %s to format strings into your print statement "
   ]
  },
  {
   "cell_type": "code",
   "execution_count": 4,
   "metadata": {},
   "outputs": [
    {
     "name": "stdout",
     "output_type": "stream",
     "text": [
      "Welcome Harry\n"
     ]
    }
   ],
   "source": [
    "name = \"Harry\"\n",
    "print(\"Welcome %s\"%name) "
   ]
  },
  {
   "cell_type": "markdown",
   "metadata": {},
   "source": [
    "# Floating point Numbers \n",
    "Floating point numbers use the format %n1.n2f \n",
    "\n",
    "where the n1 is the total minimum number of digits the string should contain (these may be filled with whitespace if the entire number does not have this many digits. \n",
    "\n",
    "The n2 placeholder stands for how many numbers to show past the decimal point.\n",
    "\n",
    "Lets see some examples:"
   ]
  },
  {
   "cell_type": "code",
   "execution_count": 5,
   "metadata": {},
   "outputs": [
    {
     "name": "stdout",
     "output_type": "stream",
     "text": [
      "Floating values are : 3.14\n"
     ]
    }
   ],
   "source": [
    "print(\"Floating values are : %1.2f\" %(3.142))"
   ]
  },
  {
   "cell_type": "code",
   "execution_count": 6,
   "metadata": {},
   "outputs": [
    {
     "name": "stdout",
     "output_type": "stream",
     "text": [
      "Floating values are :       3.14\n"
     ]
    }
   ],
   "source": [
    "print(\"Floating values are : %10.2f\" %(3.142))"
   ]
  },
  {
   "cell_type": "code",
   "execution_count": 7,
   "metadata": {},
   "outputs": [
    {
     "name": "stdout",
     "output_type": "stream",
     "text": [
      "Floating values are : 3.14199999999999990407673067\n"
     ]
    }
   ],
   "source": [
    "print(\"Floating values are : %1.26f\" %(3.142))"
   ]
  },
  {
   "cell_type": "markdown",
   "metadata": {},
   "source": [
    "# Multiple Formatting"
   ]
  },
  {
   "cell_type": "code",
   "execution_count": 8,
   "metadata": {},
   "outputs": [
    {
     "name": "stdout",
     "output_type": "stream",
     "text": [
      "First: hi!, Second: 3.14, Third: 22\n"
     ]
    }
   ],
   "source": [
    "print ('First: %s, Second: %1.2f, Third: %r' %('hi!',3.14,22))\n"
   ]
  },
  {
   "cell_type": "code",
   "execution_count": 10,
   "metadata": {},
   "outputs": [
    {
     "name": "stdout",
     "output_type": "stream",
     "text": [
      "First: hi!, Second: hello, Third: hello\n"
     ]
    }
   ],
   "source": [
    "# How to use the variable for multiple formating \n",
    "string = \"hello\"\n",
    "print ('First: %s, Second: %s, Third: %s' %('hi!',string,string))\n"
   ]
  },
  {
   "cell_type": "markdown",
   "metadata": {},
   "source": [
    "# Using the string .format() method\n",
    "The best way to format objects into your strings for print statements is using the format method. The syntax is:\n",
    "\n",
    "'String here {var1} then also {var2}'.format(var1='something1',var2='something2')\n",
    "\n",
    "Lets see some examples:"
   ]
  },
  {
   "cell_type": "code",
   "execution_count": 12,
   "metadata": {},
   "outputs": [
    {
     "name": "stdout",
     "output_type": "stream",
     "text": [
      "Formatted string is Best\n"
     ]
    }
   ],
   "source": [
    "print(\"Formatted string is {p}\".format(p=\"Best\"))"
   ]
  },
  {
   "cell_type": "code",
   "execution_count": 13,
   "metadata": {},
   "outputs": [
    {
     "name": "stdout",
     "output_type": "stream",
     "text": [
      "For Best usage Formatted string is Best\n"
     ]
    }
   ],
   "source": [
    "print(\"For {p} usage Formatted string is {p}\".format(p=\"Best\"))"
   ]
  },
  {
   "cell_type": "code",
   "execution_count": 14,
   "metadata": {},
   "outputs": [
    {
     "name": "stdout",
     "output_type": "stream",
     "text": [
      "For Best usage Formatted string is Perfect\n"
     ]
    }
   ],
   "source": [
    "print(\"For {p} usage Formatted string is {y}\".format(p=\"Best\",y=\"Perfect\"))"
   ]
  },
  {
   "cell_type": "code",
   "execution_count": 15,
   "metadata": {},
   "outputs": [
    {
     "name": "stdout",
     "output_type": "stream",
     "text": [
      "For Perfect usage Formatted string is Best\n"
     ]
    }
   ],
   "source": [
    "print(\"For {y} usage Formatted string is {p}\".format(p=\"Best\",y=\"Perfect\"))"
   ]
  },
  {
   "cell_type": "code",
   "execution_count": 17,
   "metadata": {},
   "outputs": [
    {
     "name": "stdout",
     "output_type": "stream",
     "text": [
      "two one\n"
     ]
    }
   ],
   "source": [
    "print('{1} {0}'.format('one', 'two'))"
   ]
  },
  {
   "cell_type": "markdown",
   "metadata": {},
   "source": [
    "# https://pyformat.info"
   ]
  }
 ],
 "metadata": {
  "kernelspec": {
   "display_name": "Python 3",
   "language": "python",
   "name": "python3"
  },
  "language_info": {
   "codemirror_mode": {
    "name": "ipython",
    "version": 3
   },
   "file_extension": ".py",
   "mimetype": "text/x-python",
   "name": "python",
   "nbconvert_exporter": "python",
   "pygments_lexer": "ipython3",
   "version": "3.6.1"
  }
 },
 "nbformat": 4,
 "nbformat_minor": 2
}
