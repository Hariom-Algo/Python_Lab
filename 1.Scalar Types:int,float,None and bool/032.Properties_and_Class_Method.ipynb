{
 "cells": [
  {
   "cell_type": "markdown",
   "metadata": {},
   "source": [
    "# Properties and Class Methods\n",
    "###### Class Attributes\n",
    "###### First though we need to look at class scope attributes, so let's start there. You should already be familiar with instance attributes. These are attributes which are assigned on a per object basis usually in the dunder-init method of a class. To illustrate, we'll start with an object that defines a simple shipping container with two instance attributes called owner_code and contents. You can follow along whilst we develop this system in PyCharm. (Typing) We'll put the code in a Python module called shipping.py. First we introduce the class ShippingContainer, then we define the dunder-init method taking two arguments, owner_code and contents, and then in body of the method we assign the two arguments to two new instance attributes. This is simple enough to use from the REPL. First we import everything from our shipping module, then we instantiate a ShippingContainer passing the YML owner code and books as contents. As you would expect, both of these attributes can be retrieved normally. If we create a second ShippingContainer instance, it has its own independent owner and contents attributes just as you would expect. Sometimes, however, we would like to have an attribute that is associated with the class and not with each instance of the class. In other words, we would like an attribute whose value is shared between all instances of that class. Such attributes are known as class attributes, and they can be created by assigning to their names within the scope of the class. Let's say we'd like to give each ShippingContainer instance we create a new serial number. We add a next_serial attribute at class scope starting at the arbitrary value of 1337 we've chosen to make our example more interesting. We also modify the initializer method to assign the current value of the next_serial class attribute to a new instance attribute self.serial. Finally, we increment the next_serial class attribute. Let's try it in a new REPL session. We'll import everything from our module again and instantiate a new ShippingContainer. As we can see, this didn't work as planned. Python can't resolve the next_serial name where we first refer to it in the dunder-init method. To understand why, we need to recall the Python rules for searching scopes local, enclosing function, global, and built-in or LEBG. Since next_serial doesn't exist at any of these scopes because classes don't introduce new scopes, we need to locate an object that is in one of the scopes and drill down to next_serial from there. In this case, the ShippingContainer class object is at global or module scope, so we must start from there by qualifying the next_serial class attribute name as ShippingContainer.next_serial. At first it might look odd to have to refer to the class by name from within the class definition, but it's really not that much different from having to qualify instance attributes with self. As with the self prefix, using the class name prefix for class attributes confers the same understandability advantage reducing the amount of detective work required to figure out which objects are being referred to. Remember the Zen of Python. Explicit is better than implicit, and readability counts. With these changes in place, our example works as expected. Restarting the REPL we can import everything from our module again and instantiate shipping containers and check that their serial numbers are incrementing from 1337 as we would expect. We can also retrieve the class attribute from outside the class by qualifying it with a class name or we can access the same class attribute through any of the instances. Returning to our code, this shows that we could've written our dunder-init function like this by prefixing the class attribute with self rather than the class name. Although this works, this style is best avoided since it makes it much less clearer within the function body which attributes are instance attributes and which are class attributes. There's another pitfall here of which you must be made aware. Although you can read a class attribute through the self instance reference, attempting to assign to a class attribute through the self reference won't have the desired effect. Look at the other instance attributes we assign to in the initializer, owner_code, contents, and serial. Assigning to an instance attribute is exactly how we bring these attributes into being. If we attempt to assign to an existing class attribute through the self reference, we actually create a new instance attribute, which hides the class attribute, and the class attribute would remain unmodified. You might think that the use of the augmented assignment operators such as the += we use here would also be verboten, but they are not. The augmented assignment operators work by calling a special method on the referred to object and don't rebind the reference on the left hand side. All said, it's much better and safer to access class attributes as, well, attributes of the class object rather than via the instance."
   ]
  },
  {
   "cell_type": "code",
   "execution_count": 19,
   "metadata": {
    "collapsed": true
   },
   "outputs": [],
   "source": [
    "class ShippingContainer:\n",
    "    \n",
    "    def __init__(self,owner_code,contents):\n",
    "        self.owner_code = owner_code\n",
    "        self.contents = contents\n",
    "        "
   ]
  },
  {
   "cell_type": "code",
   "execution_count": 20,
   "metadata": {
    "collapsed": true
   },
   "outputs": [],
   "source": [
    "c1= ShippingContainer(\"Container1\",\"Reserved\")"
   ]
  },
  {
   "cell_type": "code",
   "execution_count": 21,
   "metadata": {},
   "outputs": [
    {
     "data": {
      "text/plain": [
       "'Container1'"
      ]
     },
     "execution_count": 21,
     "metadata": {},
     "output_type": "execute_result"
    }
   ],
   "source": [
    "#Both of them can be retrived normally\n",
    "c1.owner_code"
   ]
  },
  {
   "cell_type": "code",
   "execution_count": 22,
   "metadata": {},
   "outputs": [
    {
     "data": {
      "text/plain": [
       "'Reserved'"
      ]
     },
     "execution_count": 22,
     "metadata": {},
     "output_type": "execute_result"
    }
   ],
   "source": [
    "c1.contents"
   ]
  },
  {
   "cell_type": "code",
   "execution_count": 23,
   "metadata": {
    "collapsed": true
   },
   "outputs": [],
   "source": [
    "#If we create second shipping container we \n",
    "c2 = ShippingContainer(\"Container2\",\"Free\")"
   ]
  },
  {
   "cell_type": "code",
   "execution_count": 24,
   "metadata": {},
   "outputs": [
    {
     "data": {
      "text/plain": [
       "'Container2'"
      ]
     },
     "execution_count": 24,
     "metadata": {},
     "output_type": "execute_result"
    }
   ],
   "source": [
    "c2.owner_code\n"
   ]
  },
  {
   "cell_type": "code",
   "execution_count": 25,
   "metadata": {},
   "outputs": [
    {
     "data": {
      "text/plain": [
       "'Free'"
      ]
     },
     "execution_count": 25,
     "metadata": {},
     "output_type": "execute_result"
    }
   ],
   "source": [
    "c2.contents"
   ]
  },
  {
   "cell_type": "code",
   "execution_count": 31,
   "metadata": {
    "collapsed": true
   },
   "outputs": [],
   "source": [
    "#Sometimes we  would like to have attributes associated with class\n",
    "# Not with each instance of the class\n",
    "# Those are known as class attribute \n",
    "class ShippingContainer:\n",
    "    \n",
    "    next_serial = 130\n",
    "    \n",
    "    def __init__(self,owner_code,contents):\n",
    "        self.owner_code = owner_code\n",
    "        self.contents = contents\n",
    "        # Remember LEGB\n",
    "        self.serial_number = ShippingContainer.next_serial + 1\n",
    "        ShippingContainer.next_serial = self.serial_number"
   ]
  },
  {
   "cell_type": "code",
   "execution_count": 32,
   "metadata": {
    "collapsed": true
   },
   "outputs": [],
   "source": [
    "c1= ShippingContainer(\"Container1\",\"Reserved\")"
   ]
  },
  {
   "cell_type": "code",
   "execution_count": 33,
   "metadata": {
    "collapsed": true
   },
   "outputs": [],
   "source": [
    "c2 = ShippingContainer(\"Container2\",\"Free\")"
   ]
  },
  {
   "cell_type": "code",
   "execution_count": 34,
   "metadata": {},
   "outputs": [
    {
     "data": {
      "text/plain": [
       "131"
      ]
     },
     "execution_count": 34,
     "metadata": {},
     "output_type": "execute_result"
    }
   ],
   "source": [
    "c1.serial_number"
   ]
  },
  {
   "cell_type": "code",
   "execution_count": 30,
   "metadata": {
    "scrolled": true
   },
   "outputs": [
    {
     "data": {
      "text/plain": [
       "132"
      ]
     },
     "execution_count": 30,
     "metadata": {},
     "output_type": "execute_result"
    }
   ],
   "source": [
    "c2.serial_number"
   ]
  },
  {
   "cell_type": "markdown",
   "metadata": {},
   "source": [
    "# Static Methods\n",
    "###### Let's perform a small refactoring by extracting the logic for obtaining the next identifier into a method _get_next_serial, which as you can see from the leading underscore is an implementation detail of this class. Notice that like all of the other methods we've encountered so far the first argument to _get_next_serial is self, which is the instance on which the method will operate. Notice, however, that although we must accept the self instance argument, nowhere in the method do we actually refer to self, so it seems completely redundant. What we would like to do is associate _get_next_serial with the class rather than with instances of the class. Python gives us two mechanisms to achieve this, the first of which is the @staticmethod decorator. To convert our method into a static method, we simply decorate it with the @staticmethod decorator and remove the unused self argument. Although not strictly necessary, we can also modify the call site to call through the class rather than through the instance by replacing self._get_next_serial with ShippingContainer._get_next_serial. When we test this at the REPL, we can see that the modified code has exactly the same behavior as before. Static methods in Python have no direct knowledge of the class within which they are defined. They simply allow us to group a function within the class because the function is conceptually related to the class. The name @staticmethod is something of an anachronism in Python. The static refers to a keyword used to indicate the equivalent concept in the C++ programming language, which itself was a reuse of a keyword from the C programming language."
   ]
  },
  {
   "cell_type": "code",
   "execution_count": 44,
   "metadata": {
    "collapsed": true
   },
   "outputs": [],
   "source": [
    "class ShippingContainer:\n",
    "    \n",
    "    next_serial = 130\n",
    "    \n",
    "    @staticmethod\n",
    "    def _get_next_serial():\n",
    "        result = ShippingContainer.next_serial\n",
    "        ShippingContainer.next_serial += 1\n",
    "        return result \n",
    "    \n",
    "    def __init__(self,owner_code,contents):\n",
    "        self.owner_code = owner_code\n",
    "        self.contents = contents\n",
    "        # Remember LEGB\n",
    "        self.serial_number = ShippingContainer._get_next_serial()"
   ]
  },
  {
   "cell_type": "code",
   "execution_count": 45,
   "metadata": {},
   "outputs": [],
   "source": [
    "c1= ShippingContainer(\"Container1\",\"Reserved\")"
   ]
  },
  {
   "cell_type": "code",
   "execution_count": 46,
   "metadata": {
    "collapsed": true
   },
   "outputs": [],
   "source": [
    "c2 = ShippingContainer(\"Container2\",\"Free\")"
   ]
  },
  {
   "cell_type": "code",
   "execution_count": 47,
   "metadata": {},
   "outputs": [
    {
     "data": {
      "text/plain": [
       "130"
      ]
     },
     "execution_count": 47,
     "metadata": {},
     "output_type": "execute_result"
    }
   ],
   "source": [
    "c1.serial_number"
   ]
  },
  {
   "cell_type": "code",
   "execution_count": 48,
   "metadata": {},
   "outputs": [
    {
     "data": {
      "text/plain": [
       "131"
      ]
     },
     "execution_count": 48,
     "metadata": {},
     "output_type": "execute_result"
    }
   ],
   "source": [
    "c2.serial_number"
   ]
  },
  {
   "cell_type": "markdown",
   "metadata": {},
   "source": [
    "# Class Methods\n",
    "###### As an alternative to @staticmethod, we can use a different decorator called @classmethod. Let's further modify our function to use the @classmethod decorator instead of the @staticmethod decorator. @classmethod accepts the class object as the first formal argument by convention using the abbreviated name cls since we can't use the fully spelled out keyword class as an argument name. The cls argument for class methods plays an analogous role to the self argument for instance methods. Now, when we call ShippingContainer._get_next_serial, the ShippingContainer class object is passed as the cls argument of the class method, which we then refer to within the body of the method to locate the next serial class attribute. The @staticmethod and @classmethod decorators are quite similar, and you may find it difficult to choose between them, and this may be even more confusing if you have a heritage in another object-oriented language such as C++, C#, or Java, which has a similar static method concept. The rule is simple though. If you need to refer to the class object within the method, for example to access a class attribute, prefer to use @classmethod. If you don't need to access the class object, use @staticmethod. In practice, most static methods will be internal implementation details of the class marked as such with a leading underscore since having no access to either the class object or the instance object they rarely form a useful part of the class interface. In principle, it would also be possible to implement any @staticmethod completely outside the class at module scope without any loss of functionality, so you may want to consider carefully whether a particular function should be a module scope function or a @staticmethod. The @staticmethod decorator merely facilitates a particular logical organization of the code allowing us to put within classes what would otherwise need to be free functions. Sometimes we would like a class to support named constructors also known as factory functions, which construct objects with certain configurations. For example, we could use a factory function to implement a method, which creates an empty ShippingContainer. We create a new method decorated with a @classmethod decorator called create_empty. The method calls the constructor on the class type, cls, passing the owner_code and contents set to None. Of course in this case cls will refer to ShippingContainer, so this is exactly the same as calling the ShippingContainer constructor. We can invoke our factory method directly on the ShippingContainer class object like this. (Typing) This technique allows us to support multiple functions which behave similarly to constructors, but with different behaviors without having to resort to contortions within the dunder-init method to interpret different forms of argument lists. Here we add a constructor for placing an iterable series of items in the container called create_with_items. Again, this is a function decorated with a @classmethod decorator, which internally calls the cls constructor where cls will be ShippingContainer. Here's a demonstration of the new named constructor. We pass a list of items to be placed within the container. Let's modify our example to make it slightly more realistic. We'll adjust ShippingContainer to use a string code rather than an integer serial number. In fact, we'll modify our class to use fully-fledged BIC codes where B-I-C is the Bureau International des Conteneur or the International Container Bureau. Each container has a unique BIC code, which follows a standard format defined in the ISO 6346 standard. We won't go into the details of the coding system here, but we have included a simple Python module called iso6364.py in the example code associated with this course. All you need to know for now is that the module can create a conforming BIC code given a three letter owner code and a six digit serial number together with an optional equipment category identifier. We'll retain the integer serial number generator and introduce a @staticmethod called _make_bic_code with a leading underscore to combine the owner_code and integer serial number into a single string BIC code. Within the _make_bic_code @staticmethod we call the iso6346 create function to which we pass the owner_code and the string version of the serial number. This is padded with leading zeros to ensure it's six characters long using the string zfill method. We'll also rework the initializer function to create and store the BIC code instead of the separate owner_code and serial numbers. Within the dunder-init initializer method we call ShippingContainer._make_bic_code and assign the result to the new instance attribute bic. The numeric serial argument to this function is obtained by calling our existing _get_next_serial class method. Now, let's try the modified code. We create an empty ShippingContainer using our factory @classmethod create_empty passing the YML owner_code. We can see that the BIC attribute now contains a legitimate BIC code."
   ]
  },
  {
   "cell_type": "code",
   "execution_count": 50,
   "metadata": {
    "collapsed": true
   },
   "outputs": [],
   "source": [
    "class ShippingContainer:\n",
    "    \n",
    "    next_serial = 130\n",
    "    \n",
    "    @classmethod\n",
    "    def _get_next_serial(cls):\n",
    "        result = cls.next_serial\n",
    "        cls.next_serial += 1\n",
    "        return result \n",
    "    \n",
    "    def __init__(self,owner_code,contents):\n",
    "        self.owner_code = owner_code\n",
    "        self.contents = contents\n",
    "        # Remember LEGB\n",
    "        self.serial_number = ShippingContainer._get_next_serial()"
   ]
  },
  {
   "cell_type": "code",
   "execution_count": 51,
   "metadata": {
    "collapsed": true
   },
   "outputs": [],
   "source": [
    "#Class method for named constructor"
   ]
  },
  {
   "cell_type": "code",
   "execution_count": 52,
   "metadata": {
    "collapsed": true
   },
   "outputs": [],
   "source": [
    "class ShippingContainer:\n",
    "    \n",
    "    next_serial = 130\n",
    "    \n",
    "    @classmethod\n",
    "    def _get_next_serial(cls):\n",
    "        result = cls.next_serial\n",
    "        cls.next_serial += 1\n",
    "        return result \n",
    "    \n",
    "    @classmethod\n",
    "    def create_empty(cls,owner_code):\n",
    "        return cls(owner_code,contents=None)\n",
    "    \n",
    "    def __init__(self,owner_code,contents):\n",
    "        self.owner_code = owner_code\n",
    "        self.contents = contents\n",
    "        # Remember LEGB\n",
    "        self.serial_number = ShippingContainer._get_next_serial()"
   ]
  },
  {
   "cell_type": "code",
   "execution_count": 53,
   "metadata": {
    "collapsed": true
   },
   "outputs": [],
   "source": [
    "c3 = ShippingContainer.create_empty(\"Container3\")"
   ]
  },
  {
   "cell_type": "code",
   "execution_count": 54,
   "metadata": {
    "collapsed": true
   },
   "outputs": [],
   "source": [
    "# These similar to different constructors\n",
    "# without changing the init method\n",
    "\n",
    "class ShippingContainer:\n",
    "    \n",
    "    next_serial = 130\n",
    "    \n",
    "    @classmethod\n",
    "    def _get_next_serial(cls):\n",
    "        result = cls.next_serial\n",
    "        cls.next_serial += 1\n",
    "        return result \n",
    "    \n",
    "    @classmethod\n",
    "    def create_empty(cls,owner_code):\n",
    "        return cls(owner_code,contents=None)\n",
    "    \n",
    "    @classmethod\n",
    "    def create_with_items(cls,owner_code,items):\n",
    "        return cls(owner_code,contents=list(items))\n",
    "    \n",
    "    def __init__(self,owner_code,contents):\n",
    "        self.owner_code = owner_code\n",
    "        self.contents = contents\n",
    "        # Remember LEGB\n",
    "        self.serial_number = ShippingContainer._get_next_serial()"
   ]
  },
  {
   "cell_type": "code",
   "execution_count": 55,
   "metadata": {
    "collapsed": true
   },
   "outputs": [],
   "source": [
    "c4 = ShippingContainer.create_with_items(\"Container4\",[\"reserved\",'occupied','booked'])"
   ]
  },
  {
   "cell_type": "code",
   "execution_count": 56,
   "metadata": {},
   "outputs": [
    {
     "data": {
      "text/plain": [
       "['reserved', 'occupied', 'booked']"
      ]
     },
     "execution_count": 56,
     "metadata": {},
     "output_type": "execute_result"
    }
   ],
   "source": [
    "c4.contents"
   ]
  },
  {
   "cell_type": "markdown",
   "metadata": {},
   "source": [
    "# Static Methods With Inheritance\n",
    "##### We'll return to class inheritance in more depth later in this course, but for now we'll look at how class and static methods behave in the presence of inheritance. First, we'd like to point out that unlike static methods in many other languages, static methods in Python can be overridden in subclasses. Let's introduce a subclass of ShippingContainer called RefrigeratedShippingContainer. RefrigeratedShippingContainers use an equipment category code of R, which comprises the fourth character of the BIC code rather than the default U we saw previously. We do this in an overridden _make_bic_code @staticmethod in the derived class. We must specify this when creating the BIC code by passing an additional category argument to the iso6346.create function. Let's try instantiating our new class at the REPL and checking its BIC code. (Typing) Hmm. This hasn't worked as we had hoped. The fourth character in the BIC code is still U. This is because in the init method we have called _make_bic_code through a specific class. To get polymorphic override behavior, we need to call the @staticmethod on an instance. Let's experiment a little at the REPL so we understand what's going on. First we'll test the @staticmethod by calling it directly on the base class. Here we call it on ShippingContainer. Now we'll call it directly on the derived class, RefrigeratedShippingContainer. In the latter case we have an R for refrigeration in the fourth character. If you're wondering why the last digit also changes, it's because the last digit is a check digit computed by the ISO6346 implementation. In both cases we get exactly what we've asked for. The class-specific versions of the static methods are called. Now we'll create some instances, first off the base class. Notice that here we're directly calling an internal implementation detail method we wouldn't normally call on an existing instance. We've deliberately used the different owner_code from the one we constructed the instance with to make that clear. Here the fourth character of the result is the default U, so we know the base version was called. Notice that although we've created an instance, we're ignoring any instance attribute data when we invoke the @staticmethod directly in this way. Now we'll instantiate the derived class, RefrigeratedShippingContainer. Again, we'll call _make_bic_code through the instance, although we're ignoring the attributes of the instance R we've created. We can see from the R in the fourth place of the BIC code that the derived class implementation was called, so we can get polymorphic dispatcher static methods only when we call the method through an instance, not when we call the method to the class. To get the desired behavior, we must modify our dunder-init method in the base class to use polymorphic dispatch of the @staticmethod by calling through the instance self. With this change in place, we get polymorphic BIC generation from the single constructor implementation. Be aware then that by calling static methods through the class you effectively prevent them being overridden, at least from the point of view of the base class. If you need polymorphic dispatch of @staticmethod invocations, call through the self instance.\n",
    "\n"
   ]
  },
  {
   "cell_type": "markdown",
   "metadata": {},
   "source": [
    "# Class Methods With Inheritance\n",
    "###### Now, let's look at class methods and how they interact with inheritance. The class methods we defined in the base class will be inherited by the subclass. And what is more, the cls argument of these methods will be set appropriately, so calling create_empty on RefrigeratedShippingContainer will create an object of the appropriate subtype. For those of you coming to Python from other popular object-oriented languages, you should recognize this ability to have class methods behave polymorphically as a distinguishing feature of Python. The other factory method also works as expected. These invocations work because the base class dunder-init initializer method is inherited into the subclass. Let's move on by making our RefrigeratedShippingContainer more interesting by adding a PerContainerTemperatureSetting as an instance attribute. First we'll add a class attribute, which defines the maximum temperature of a refrigerator container. Being a class attribute, this will apply to all RefrigeratedContainer instances. Next we'll need to override the dunder-init method in the subclass. The overridden method does two things. First, it calls the base class version of dunder-init forwarding the owner_code and contents arguments to the base class initializer. Unlike other object-oriented languages where constructors at every level in an inheritance hierarchy will be called automatically, the same cannot be said for initializers in Python. If we want a base class initializer to be called when we override that initializer, we must do so explicitly. Remember, explicit is better than implicit. To get a reference to the base class instance, we call the built-in super() function. We then call dunder-init on the returned reference and forward the constructor arguments. We'll be covering super() in a lot more detail later in the course, so don't concern yourself overly with it now. We're just using it so the subclass version of dunder-init can extend the base class version. With this done, we validate the celsius argument against the MAX_CELSIUS class attribute and assign the celsius instance attribute. Let's try it at the REPL. We start by importing all classes and create an instance of RefrigeratedShippingContainer using our create_with_items factory method. Oops! There's no way the factory method in the base class can know or indeed should know the signature of the dunder-init function in derived classes. As such, it doesn't accommodate our extra celsius argument in the derived class. Fortunately we can use *args and keyword args to work around this by having our factory functions accept both *args and **kwargs and forward them unmodified to the underlying constructors. We can have our base class factory functions accept arguments destined for derived class initializers. (Typing) When we try this at the REPL by creating another RefrigeratedShippingContainer by calling create_with_items on the class and remember to pass the additional celsius argument, which will be forwarded to the underlying constructor through keyword args, everything works as expected. So far so good. We can construct instances of our derived class using a factory function defined in the base class and can gain access to our new celsius attribute as expected. Unfortunately, our design also allows us to set the instance temperature outside the range indicated by the MAX_CELSIUS class attribute. Doing so violates what should be an important class invariant, and we should find a way to prevent it."
   ]
  },
  {
   "cell_type": "markdown",
   "metadata": {},
   "source": [
    "# Properties"
   ]
  },
  {
   "cell_type": "code",
   "execution_count": null,
   "metadata": {
    "collapsed": true
   },
   "outputs": [],
   "source": []
  }
 ],
 "metadata": {
  "kernelspec": {
   "display_name": "Python 3",
   "language": "python",
   "name": "python3"
  },
  "language_info": {
   "codemirror_mode": {
    "name": "ipython",
    "version": 3
   },
   "file_extension": ".py",
   "mimetype": "text/x-python",
   "name": "python",
   "nbconvert_exporter": "python",
   "pygments_lexer": "ipython3",
   "version": "3.6.1"
  }
 },
 "nbformat": 4,
 "nbformat_minor": 2
}
