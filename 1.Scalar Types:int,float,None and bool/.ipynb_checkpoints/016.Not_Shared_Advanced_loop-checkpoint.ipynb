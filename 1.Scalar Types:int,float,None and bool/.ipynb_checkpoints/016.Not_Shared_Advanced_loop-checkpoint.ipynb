{
 "cells": [
  {
   "cell_type": "markdown",
   "metadata": {},
   "source": [
    "# Advanced loop"
   ]
  },
  {
   "cell_type": "code",
   "execution_count": 1,
   "metadata": {},
   "outputs": [
    {
     "name": "stdout",
     "output_type": "stream",
     "text": [
      "[2, 36, 25, 9] contains 36 which is a multiple of 12\n"
     ]
    }
   ],
   "source": [
    "items= [2,36,25,9]\n",
    "divisor = 12\n",
    "\n",
    "for item in items:\n",
    "    if item % divisor == 0:\n",
    "        found = item\n",
    "        break;\n",
    "else:\n",
    "    items.append(divisor)\n",
    "    found=divisor\n",
    "    \n",
    "print(\"{items} contains {found} which is a multiple of {divisor}\".format(**locals()) )\n"
   ]
  },
  {
   "cell_type": "code",
   "execution_count": 2,
   "metadata": {},
   "outputs": [
    {
     "name": "stdout",
     "output_type": "stream",
     "text": [
      "[2, 25, 9, 12] contains 12 which is a multiple of 12\n"
     ]
    }
   ],
   "source": [
    "items= [2,25,9]\n",
    "divisor = 12\n",
    "\n",
    "for item in items:\n",
    "    if item % divisor == 0:\n",
    "        found = item\n",
    "        break;\n",
    "else:\n",
    "    items.append(divisor)\n",
    "    found=divisor\n",
    "    \n",
    "print(\"{items} contains {found} which is a multiple of {divisor}\".format(**locals()) )"
   ]
  },
  {
   "cell_type": "code",
   "execution_count": 5,
   "metadata": {
    "collapsed": true
   },
   "outputs": [],
   "source": [
    "def ensure_has_divisible(items,divisor):\n",
    "    for item in items:\n",
    "        if item % divisor == 0:\n",
    "            return item\n",
    "        \n",
    "    items.append(divisor)\n",
    "    return divisor\n",
    "\n"
   ]
  },
  {
   "cell_type": "code",
   "execution_count": 7,
   "metadata": {},
   "outputs": [
    {
     "name": "stdout",
     "output_type": "stream",
     "text": [
      "[2, 25, 9, 12] contains 12 which is a multiple of 12\n"
     ]
    }
   ],
   "source": [
    "items = [2,25,9]\n",
    "divisor = 12\n",
    "ensure_has_divisible(items,divisor)\n",
    "print(\"{items} contains {found} which is a multiple of {divisor}\".format(**locals()) )"
   ]
  },
  {
   "cell_type": "code",
   "execution_count": null,
   "metadata": {
    "collapsed": true
   },
   "outputs": [],
   "source": []
  }
 ],
 "metadata": {
  "kernelspec": {
   "display_name": "Python 3",
   "language": "python",
   "name": "python3"
  },
  "language_info": {
   "codemirror_mode": {
    "name": "ipython",
    "version": 3
   },
   "file_extension": ".py",
   "mimetype": "text/x-python",
   "name": "python",
   "nbconvert_exporter": "python",
   "pygments_lexer": "ipython3",
   "version": "3.6.1"
  }
 },
 "nbformat": 4,
 "nbformat_minor": 2
}
