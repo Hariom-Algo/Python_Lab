{
 "cells": [
  {
   "cell_type": "markdown",
   "metadata": {},
   "source": [
    "# Inheritance and Subtype Polymorphism\n",
    "## Inheritance Overview\n",
    "###### Let's take a deeper look at Python's support for inheritance including multiple inheritance and the underlying mechanisms by which Python dispatches method calls. We'll also look at techniques for runtime-type checking for those times when it's necessary. Before we look at multiple inheritance, let's do a quick review of single inheritance. The syntax of single inheritance is part of the class declaration with the BaseClass put in parentheses after the class name. What this essentially means is that SubClass will have all of the methods of BaseClass, and SubClass will be able to override these methods if it wants to. In other words, SubClass can do everything that BaseClass can do, and it can optionally modify or specialize that behavior. In general, a subclass initializer will want to call its base class initializer to make sure that the full object is initialized. Remember though that if a subclass doesn't define an initializer then the base class initializer is called when an instance of the subclass is created. To see the basics of inheritance in action, let's define a very simple base class called Base.  If we create an instance of Base, we see of course that its initializer is called, and calling the f() method on that instance uses Base.f(). There should be nothing surprising here. Let's now define a subclass of Base called Sub. This subclass doesn't add any functionality to Base at all. Because we haven't defined an initializer for Sub, we can see that it inherits Base's initializer. And likewise, Sub also inherits Base.f(). Sub can override Base.f() by simply redefining the method itself. Now, if we create an instance of Sub, we see that the base initializer is still being called, but Sub's definition of F is now used. Finally, let's give Sub its own initializer. Now when we create a new instance of Sub we only see Sub's initializer being called. If you're used to languages like C++ and Java, you might have expected Python to also call Base's initializer when creating a Sub instance, but this isn't how Python behaves. Rather, Python treats the dunder-init method just like any other method, and it doesn't automatically call base class initializers for subclasses that define their own initializers. If you define an initializer in a subclass and still want to call the initializer of a base class, and this is often important to do, then you need to call it explicitly using the super() function. Let's finish this small example by doing that. Now when we construct an instance of Sub we see both the Sub and Base initializers being called. The fact that Python doesn't provide special support for calling initializers is important to understand, and if it seems strange to you don't worry. It soon becomes second nature. Hopefully this small example was just review for you."
   ]
  },
  {
   "cell_type": "code",
   "execution_count": 2,
   "metadata": {
    "collapsed": true
   },
   "outputs": [],
   "source": [
    "class Base:\n",
    "    def __init__(self):\n",
    "        print('Base initializer')\n",
    "        \n",
    "    def f(self):\n",
    "        print('f.base')\n",
    "        "
   ]
  },
  {
   "cell_type": "code",
   "execution_count": 3,
   "metadata": {},
   "outputs": [
    {
     "name": "stdout",
     "output_type": "stream",
     "text": [
      "Base initializer\n"
     ]
    }
   ],
   "source": [
    "b =Base()"
   ]
  },
  {
   "cell_type": "code",
   "execution_count": 4,
   "metadata": {},
   "outputs": [
    {
     "name": "stdout",
     "output_type": "stream",
     "text": [
      "f.base\n"
     ]
    }
   ],
   "source": [
    "b.f()"
   ]
  },
  {
   "cell_type": "code",
   "execution_count": 5,
   "metadata": {
    "collapsed": true
   },
   "outputs": [],
   "source": [
    "class Base:\n",
    "    def __init__(self):\n",
    "        print('Base initializer')\n",
    "        \n",
    "    def f(self):\n",
    "        print('f.base')\n",
    "        \n",
    "# No functionality to base at all        \n",
    "class Sub(Base):\n",
    "    pass"
   ]
  },
  {
   "cell_type": "code",
   "execution_count": 7,
   "metadata": {},
   "outputs": [
    {
     "name": "stdout",
     "output_type": "stream",
     "text": [
      "Base initializer\n"
     ]
    }
   ],
   "source": [
    "# Notice it calls the base initializer in absence of sub class initializer\n",
    "s = Sub()"
   ]
  },
  {
   "cell_type": "code",
   "execution_count": 9,
   "metadata": {},
   "outputs": [
    {
     "name": "stdout",
     "output_type": "stream",
     "text": [
      "f.base\n"
     ]
    }
   ],
   "source": [
    "# Also inherits base f function\n",
    "s.f()"
   ]
  },
  {
   "cell_type": "code",
   "execution_count": 13,
   "metadata": {
    "collapsed": true
   },
   "outputs": [],
   "source": [
    "# Sub can overide by redifing sub\n",
    "class Base:\n",
    "    def __init__(self):\n",
    "        print('Base initializer')\n",
    "        \n",
    "    def f(self):\n",
    "        print('f.base')\n",
    "        \n",
    "# No functionality to base at all        \n",
    "class Sub(Base):\n",
    "    \n",
    "    def f(self):\n",
    "        print('f.sub')"
   ]
  },
  {
   "cell_type": "code",
   "execution_count": 14,
   "metadata": {},
   "outputs": [
    {
     "name": "stdout",
     "output_type": "stream",
     "text": [
      "Base initializer\n"
     ]
    }
   ],
   "source": [
    "s= Sub()"
   ]
  },
  {
   "cell_type": "code",
   "execution_count": 15,
   "metadata": {},
   "outputs": [
    {
     "name": "stdout",
     "output_type": "stream",
     "text": [
      "f.sub\n"
     ]
    }
   ],
   "source": [
    "s.f()"
   ]
  },
  {
   "cell_type": "code",
   "execution_count": 16,
   "metadata": {
    "collapsed": true
   },
   "outputs": [],
   "source": [
    "# lets give sub its own intializer\n",
    "# Sub can overide by redifing sub\n",
    "class Base:\n",
    "    def __init__(self):\n",
    "        print('Base initializer')\n",
    "        \n",
    "    def f(self):\n",
    "        print('f.base')\n",
    "        \n",
    "# No functionality to base at all        \n",
    "class Sub(Base):\n",
    "    \n",
    "    def __init__(self):\n",
    "        print('Sub intialiser')\n",
    "    \n",
    "    def f(self):\n",
    "        print('f.sub')"
   ]
  },
  {
   "cell_type": "code",
   "execution_count": 17,
   "metadata": {},
   "outputs": [
    {
     "name": "stdout",
     "output_type": "stream",
     "text": [
      "Sub intialiser\n"
     ]
    }
   ],
   "source": [
    "s= Sub()"
   ]
  },
  {
   "cell_type": "code",
   "execution_count": 18,
   "metadata": {},
   "outputs": [
    {
     "name": "stdout",
     "output_type": "stream",
     "text": [
      "f.sub\n"
     ]
    }
   ],
   "source": [
    "s.f()"
   ]
  },
  {
   "cell_type": "code",
   "execution_count": 29,
   "metadata": {
    "collapsed": true
   },
   "outputs": [],
   "source": [
    "# lets use the super\n",
    "# so that it calls the base init\n",
    "# in C++ it is done automatically\n",
    "# lets give sub its own intializer\n",
    "# Sub can overide by redifing sub\n",
    "class Base:\n",
    "    def __init__(self):\n",
    "        print('Base initializer')\n",
    "        \n",
    "    def f(self):\n",
    "        print('f.base')\n",
    "        \n",
    "# No functionality to base at all        \n",
    "class Sub(Base):\n",
    "    \n",
    "    def __init__(self):\n",
    "        super().__init__()\n",
    "        print('Sub intialiser')\n",
    "    \n",
    "    def f(self):\n",
    "        print('f.sub')\n"
   ]
  },
  {
   "cell_type": "code",
   "execution_count": 31,
   "metadata": {},
   "outputs": [
    {
     "name": "stdout",
     "output_type": "stream",
     "text": [
      "Base initializer\n",
      "Sub intialiser\n"
     ]
    }
   ],
   "source": [
    "# Both initialzer is called \n",
    "s= Sub()"
   ]
  },
  {
   "cell_type": "markdown",
   "metadata": {},
   "source": [
    "# A Realistic Example: SortedList\n",
    "###### As a more concrete and practical example of how to use inheritance in Python, we'll first define our own simplified list class called SimpleList. SimpleList uses a standard list internally, and it provides a smaller, more limited API for interacting with the list's data. We'll use SimpleList as the basis for the rest of our exploration of inheritance in Python. Next let's create a subclass of SimpleList which keeps the list contents sorted. We'll call this class SortedList, and it looks like this. You can see that the class declaration includes the class name followed by SimpleList in parentheses, so SimpleList is the base class of SortedList. The initializer for SortedList takes an optional argument, which is a sequence for initializing the list's contents. The initializer calls SimpleList's initializer and then immediately uses SimpleList.sort to sort the contents. SortedList also overrides the add method on SimpleList to ensure that the list always remains sorted. One aspect of this example that you'll notice are the calls to super(). We'll be covering super() in more detail later, but in this case it can be understood to mean call a method on my base class. So, for example, calling super.add X in SortedList.add means to simply call SimpleList.add X with the same self argument or in other words to use the base-class implementation of add. If we go to our REPL, we can see that SortedList works as expected. (Typing)"
   ]
  },
  {
   "cell_type": "code",
   "execution_count": 32,
   "metadata": {
    "collapsed": true
   },
   "outputs": [],
   "source": [
    "class SimpleList:\n",
    "    def __init__(self,items):\n",
    "        self._items = list(items)\n",
    "        \n",
    "    def add(self,item):\n",
    "        self._items.append(item)\n",
    "        \n",
    "    def __getitem__(self,index):\n",
    "        return self._items[index]\n",
    "    \n",
    "    def sort(self):\n",
    "        self._items.sort()\n",
    "        \n",
    "    def __len__(self):\n",
    "        return len(self._items)\n",
    "    \n",
    "    def __repr__(self):\n",
    "        return \"SimpleList({!r})\".format(self._items)"
   ]
  },
  {
   "cell_type": "code",
   "execution_count": 33,
   "metadata": {
    "collapsed": true
   },
   "outputs": [],
   "source": [
    "class SortedList(SimpleList):\n",
    "    def __init__(self,items=()):\n",
    "        super().__init__(items)\n",
    "        self.sort()\n",
    "        \n",
    "    def add(self,item):\n",
    "        super().add(item)\n",
    "        self.sort()\n",
    "    \n",
    "    def __repr__(self):\n",
    "        return \"SortedList({!r})\".format(self._items)\n",
    "    "
   ]
  },
  {
   "cell_type": "code",
   "execution_count": 34,
   "metadata": {
    "collapsed": true
   },
   "outputs": [],
   "source": [
    "sl = SortedList([3,4,11,78])"
   ]
  },
  {
   "cell_type": "code",
   "execution_count": 35,
   "metadata": {},
   "outputs": [
    {
     "data": {
      "text/plain": [
       "4"
      ]
     },
     "execution_count": 35,
     "metadata": {},
     "output_type": "execute_result"
    }
   ],
   "source": [
    "len(sl)"
   ]
  },
  {
   "cell_type": "code",
   "execution_count": 36,
   "metadata": {
    "collapsed": true
   },
   "outputs": [],
   "source": [
    "sl.add(-42)"
   ]
  },
  {
   "cell_type": "code",
   "execution_count": 37,
   "metadata": {},
   "outputs": [
    {
     "data": {
      "text/plain": [
       "SortedList([-42, 3, 4, 11, 78])"
      ]
     },
     "execution_count": 37,
     "metadata": {},
     "output_type": "execute_result"
    }
   ],
   "source": [
    "sl"
   ]
  },
  {
   "cell_type": "markdown",
   "metadata": {},
   "source": [
    "# The Built-In isinstance() Function\n",
    "###### Single inheritance in Python is relatively simple and should be conceptually familiar to anyone who's worked with almost any other object-oriented language. Multiple inheritance in Python is not much more complex, and as we'll eventually see both single and multiple inheritance ultimately rely on a single underlying model. Before we look at multiple inheritance though, we need to lay some ground work for the examples we'll be using. Along with the SortedList class we defined earlier, we're going to define another class, IntList, which only allows integer contents. This list subclass will prevent the insertion of non-integer elements. To do this, IntList will need to check the types of items that are inserted, and the tool it will use for this is the isinstance() built-in function. Isinstance() takes an object as its first argument and a type as its second. It then determines if the object is of the specified type returning true if it is and false otherwise. For example, here we see isinstance() applied to a number of built-in types. Instead of just checking for an exact typed match, isinstance() will also return true if the object is a subclass of the second argument. For example, we can see that a sorted list is an instance of SortedList, as well as of SimpleList. A final twist to isinstance() is that it can accept a tuple of types for its second argument. This is equivalent to asking if the first argument is an instance of any of the types in the tuple. For example, this call returns true because X is an instance of list. Now that we know how to use isinstance(), we can define our IntList class like this. You'll immediately notice that IntList is structurally similar to SortedList. It provides its own initializer and like SortedList overrides the add method to perform extra checks. In this case, IntList calls its _validate method on every item that goes into the list. _validate uses isinstance() to check the type of the candidates, and if a candidate is not an instance of int, _validate raises a TypeError. Let's see how this looks in the REPL. (Typing) So, we can see how isinstance() can be used to do type checks in Python. Checks like that are uncommon in Python, and while some people consider them to be a sign of poor design, sometimes they're simply the easiest way to solve a problem."
   ]
  },
  {
   "cell_type": "code",
   "execution_count": 38,
   "metadata": {},
   "outputs": [
    {
     "data": {
      "text/plain": [
       "True"
      ]
     },
     "execution_count": 38,
     "metadata": {},
     "output_type": "execute_result"
    }
   ],
   "source": [
    "isinstance(3,int)"
   ]
  },
  {
   "cell_type": "code",
   "execution_count": 39,
   "metadata": {},
   "outputs": [
    {
     "data": {
      "text/plain": [
       "True"
      ]
     },
     "execution_count": 39,
     "metadata": {},
     "output_type": "execute_result"
    }
   ],
   "source": [
    "isinstance(\"hello\",str)"
   ]
  },
  {
   "cell_type": "code",
   "execution_count": 40,
   "metadata": {},
   "outputs": [
    {
     "data": {
      "text/plain": [
       "False"
      ]
     },
     "execution_count": 40,
     "metadata": {},
     "output_type": "execute_result"
    }
   ],
   "source": [
    "isinstance(4.23,int)"
   ]
  },
  {
   "cell_type": "code",
   "execution_count": 41,
   "metadata": {},
   "outputs": [
    {
     "data": {
      "text/plain": [
       "True"
      ]
     },
     "execution_count": 41,
     "metadata": {},
     "output_type": "execute_result"
    }
   ],
   "source": [
    "x = []\n",
    "# Any of the type\n",
    "isinstance(x,(int,float,list))"
   ]
  },
  {
   "cell_type": "code",
   "execution_count": 42,
   "metadata": {
    "collapsed": true
   },
   "outputs": [],
   "source": [
    "class InList(SimpleList):\n",
    "    def __init__(self,items=()):\n",
    "        for x in items:\n",
    "            self._validate(x)\n",
    "        super().__init__(items)\n",
    "        \n",
    "    @staticmethod\n",
    "    def _validate(x):\n",
    "        if not isinstance(x,int):\n",
    "            raise TypeError('Int list only supports int values')\n",
    "            \n",
    "    def add(self,item):\n",
    "        self._validate(item)\n",
    "        super().add(item)\n",
    "        \n",
    "    def __repr__(self):\n",
    "        return \"SortedList({!r})\".format(self._items)\n",
    "        "
   ]
  },
  {
   "cell_type": "code",
   "execution_count": 43,
   "metadata": {
    "collapsed": true
   },
   "outputs": [],
   "source": [
    "il = InList([1,2,3,4,5])"
   ]
  },
  {
   "cell_type": "code",
   "execution_count": 44,
   "metadata": {
    "collapsed": true
   },
   "outputs": [],
   "source": [
    "il.add(19)"
   ]
  },
  {
   "cell_type": "code",
   "execution_count": 45,
   "metadata": {},
   "outputs": [
    {
     "ename": "TypeError",
     "evalue": "Int list only supports int values",
     "output_type": "error",
     "traceback": [
      "\u001b[0;31m---------------------------------------------------------------------------\u001b[0m",
      "\u001b[0;31mTypeError\u001b[0m                                 Traceback (most recent call last)",
      "\u001b[0;32m<ipython-input-45-7b709b323dd4>\u001b[0m in \u001b[0;36m<module>\u001b[0;34m()\u001b[0m\n\u001b[0;32m----> 1\u001b[0;31m \u001b[0mil\u001b[0m\u001b[0;34m.\u001b[0m\u001b[0madd\u001b[0m\u001b[0;34m(\u001b[0m\u001b[0;34m'5'\u001b[0m\u001b[0;34m)\u001b[0m\u001b[0;34m\u001b[0m\u001b[0m\n\u001b[0m",
      "\u001b[0;32m<ipython-input-42-70976f8a4467>\u001b[0m in \u001b[0;36madd\u001b[0;34m(self, item)\u001b[0m\n\u001b[1;32m     11\u001b[0m \u001b[0;34m\u001b[0m\u001b[0m\n\u001b[1;32m     12\u001b[0m     \u001b[0;32mdef\u001b[0m \u001b[0madd\u001b[0m\u001b[0;34m(\u001b[0m\u001b[0mself\u001b[0m\u001b[0;34m,\u001b[0m\u001b[0mitem\u001b[0m\u001b[0;34m)\u001b[0m\u001b[0;34m:\u001b[0m\u001b[0;34m\u001b[0m\u001b[0m\n\u001b[0;32m---> 13\u001b[0;31m         \u001b[0mself\u001b[0m\u001b[0;34m.\u001b[0m\u001b[0m_validate\u001b[0m\u001b[0;34m(\u001b[0m\u001b[0mitem\u001b[0m\u001b[0;34m)\u001b[0m\u001b[0;34m\u001b[0m\u001b[0m\n\u001b[0m\u001b[1;32m     14\u001b[0m         \u001b[0msuper\u001b[0m\u001b[0;34m(\u001b[0m\u001b[0;34m)\u001b[0m\u001b[0;34m.\u001b[0m\u001b[0madd\u001b[0m\u001b[0;34m(\u001b[0m\u001b[0mitem\u001b[0m\u001b[0;34m)\u001b[0m\u001b[0;34m\u001b[0m\u001b[0m\n\u001b[1;32m     15\u001b[0m \u001b[0;34m\u001b[0m\u001b[0m\n",
      "\u001b[0;32m<ipython-input-42-70976f8a4467>\u001b[0m in \u001b[0;36m_validate\u001b[0;34m(x)\u001b[0m\n\u001b[1;32m      8\u001b[0m     \u001b[0;32mdef\u001b[0m \u001b[0m_validate\u001b[0m\u001b[0;34m(\u001b[0m\u001b[0mx\u001b[0m\u001b[0;34m)\u001b[0m\u001b[0;34m:\u001b[0m\u001b[0;34m\u001b[0m\u001b[0m\n\u001b[1;32m      9\u001b[0m         \u001b[0;32mif\u001b[0m \u001b[0;32mnot\u001b[0m \u001b[0misinstance\u001b[0m\u001b[0;34m(\u001b[0m\u001b[0mx\u001b[0m\u001b[0;34m,\u001b[0m\u001b[0mint\u001b[0m\u001b[0;34m)\u001b[0m\u001b[0;34m:\u001b[0m\u001b[0;34m\u001b[0m\u001b[0m\n\u001b[0;32m---> 10\u001b[0;31m             \u001b[0;32mraise\u001b[0m \u001b[0mTypeError\u001b[0m\u001b[0;34m(\u001b[0m\u001b[0;34m'Int list only supports int values'\u001b[0m\u001b[0;34m)\u001b[0m\u001b[0;34m\u001b[0m\u001b[0m\n\u001b[0m\u001b[1;32m     11\u001b[0m \u001b[0;34m\u001b[0m\u001b[0m\n\u001b[1;32m     12\u001b[0m     \u001b[0;32mdef\u001b[0m \u001b[0madd\u001b[0m\u001b[0;34m(\u001b[0m\u001b[0mself\u001b[0m\u001b[0;34m,\u001b[0m\u001b[0mitem\u001b[0m\u001b[0;34m)\u001b[0m\u001b[0;34m:\u001b[0m\u001b[0;34m\u001b[0m\u001b[0m\n",
      "\u001b[0;31mTypeError\u001b[0m: Int list only supports int values"
     ]
    }
   ],
   "source": [
    "il.add('5')"
   ]
  },
  {
   "cell_type": "markdown",
   "metadata": {},
   "source": [
    "# The Built-In issubclass() Function\n",
    "###### There is another built-in function related to isinstance(), which can be used for type checking. This function, issubclass(), operates on types only rather than operating on instances of types. As its name implies, issubclass() is used to determine if one class is a subclass of another. Issubclass() takes two arguments, both of which need to be type objects, and it returns true if the first argument is a direct or indirect subclass of the second. For example, we can see that both IntList and SortedList are subclasses of SimpleList as you would expect. On the other hand, SortedList is not a subclass of IntList. We can also use a simple example to verify that issubclass() looks at the entire inheritance graph, not just direct parents. These classes are obviously pretty silly, but they do illustrate that issubclass() recognizes that MyVerySpecialInt is indeed a subclass of int even though it only directly inherits from MyInt.\n",
    "\n"
   ]
  },
  {
   "cell_type": "code",
   "execution_count": 46,
   "metadata": {},
   "outputs": [
    {
     "data": {
      "text/plain": [
       "True"
      ]
     },
     "execution_count": 46,
     "metadata": {},
     "output_type": "execute_result"
    }
   ],
   "source": [
    "issubclass(SortedList,SimpleList)"
   ]
  },
  {
   "cell_type": "code",
   "execution_count": 47,
   "metadata": {},
   "outputs": [
    {
     "data": {
      "text/plain": [
       "True"
      ]
     },
     "execution_count": 47,
     "metadata": {},
     "output_type": "execute_result"
    }
   ],
   "source": [
    "issubclass(InList,SimpleList)"
   ]
  },
  {
   "cell_type": "code",
   "execution_count": 48,
   "metadata": {},
   "outputs": [
    {
     "data": {
      "text/plain": [
       "False"
      ]
     },
     "execution_count": 48,
     "metadata": {},
     "output_type": "execute_result"
    }
   ],
   "source": [
    "issubclass(InList,SortedList)"
   ]
  },
  {
   "cell_type": "markdown",
   "metadata": {},
   "source": [
    "# Multiple Inheritance\n",
    "###### Now that we have defined two interesting subclasses of SimpleList, we're ready to take a look at multiple inheritance in Python. Multiple inheritance simply means defining classes with more than one direct base class. This feature is not universal among object-oriented languages. C++ supports multiple inheritance, for example, while Java does not. Multiple inheritance can lead to certain complex situations, for example, deciding what to do when more than one base class defines a particular method, but as we'll see Python has a relatively simple and understandable system for handling such cases. The syntax for defining a class with multiple inheritance is very similar to single inheritance. To declare multiple base classes, simply use a comma-separated list of classes in the parentheses after the class name. A class can have as many base classes as you want. Just like single inheritance, a class with multiple base classes supports all of the methods of its bases. As long as there is no overlap in the method names of the base classes, it's always easy to see how method calls are resolved. Find the base class with the matching method name, and that's which method gets called. If there is method name duplication across base classes, Python has a well-defined Method Resolution Order for determining which is called. We'll look at Method Resolution Order in more detail shortly. Let's jump right in and define our own class using multiple inheritance. So far in this module we've defined SortedList and IntList, both of which inherit from our SimpleList. Now we're going to define a class which inherits from both of these classes and thus has the properties of both. Here's our SortedIntList. It doesn't look like much does it? We've simply defined a new class and given it two base classes. In fact, the only new implementation in the class is there to give it a proper string representation. But if we go to the REPL, we can see that it works as we expect. The initializer sorts the input sequence, but rejects non-integer values. Likewise, the add method maintains both the sorting and type constraints defined by the base classes. You should spend some time playing with SortedIntList to convince yourself that it works as expected. It may not be immediately apparent how all of this works though. After all, both IntList and SortedList define add. How does Python know which add() to call? Or more importantly, since both the sorting and type constraints are being enforced by SortedIntList, how does Python seem to know to call both of them? The answers to these questions have to do with the method resolution order we mentioned earlier along with the details of how super() really works. We'll get to all of that very soon."
   ]
  },
  {
   "cell_type": "code",
   "execution_count": 55,
   "metadata": {},
   "outputs": [],
   "source": [
    "#Multiple inheritance\n",
    "class SortedIntList(InList,SortedList):\n",
    "    \n",
    "    def __repr__(self):\n",
    "        return \"SortedIntList({!r})\".format(list(self))"
   ]
  },
  {
   "cell_type": "code",
   "execution_count": 56,
   "metadata": {
    "collapsed": true
   },
   "outputs": [],
   "source": [
    "sil = SortedIntList([42,23,2])"
   ]
  },
  {
   "cell_type": "code",
   "execution_count": 57,
   "metadata": {},
   "outputs": [
    {
     "data": {
      "text/plain": [
       "SortedIntList([2, 23, 42])"
      ]
     },
     "execution_count": 57,
     "metadata": {},
     "output_type": "execute_result"
    }
   ],
   "source": [
    "sil"
   ]
  },
  {
   "cell_type": "code",
   "execution_count": 58,
   "metadata": {},
   "outputs": [
    {
     "ename": "TypeError",
     "evalue": "Int list only supports int values",
     "output_type": "error",
     "traceback": [
      "\u001b[0;31m---------------------------------------------------------------------------\u001b[0m",
      "\u001b[0;31mTypeError\u001b[0m                                 Traceback (most recent call last)",
      "\u001b[0;32m<ipython-input-58-0c84d03b20c3>\u001b[0m in \u001b[0;36m<module>\u001b[0;34m()\u001b[0m\n\u001b[0;32m----> 1\u001b[0;31m \u001b[0msil\u001b[0m \u001b[0;34m=\u001b[0m \u001b[0mSortedIntList\u001b[0m\u001b[0;34m(\u001b[0m\u001b[0;34m[\u001b[0m\u001b[0;36m42\u001b[0m\u001b[0;34m,\u001b[0m\u001b[0;36m23\u001b[0m\u001b[0;34m,\u001b[0m\u001b[0;34m'2'\u001b[0m\u001b[0;34m]\u001b[0m\u001b[0;34m)\u001b[0m\u001b[0;34m\u001b[0m\u001b[0m\n\u001b[0m",
      "\u001b[0;32m<ipython-input-42-70976f8a4467>\u001b[0m in \u001b[0;36m__init__\u001b[0;34m(self, items)\u001b[0m\n\u001b[1;32m      2\u001b[0m     \u001b[0;32mdef\u001b[0m \u001b[0m__init__\u001b[0m\u001b[0;34m(\u001b[0m\u001b[0mself\u001b[0m\u001b[0;34m,\u001b[0m\u001b[0mitems\u001b[0m\u001b[0;34m=\u001b[0m\u001b[0;34m(\u001b[0m\u001b[0;34m)\u001b[0m\u001b[0;34m)\u001b[0m\u001b[0;34m:\u001b[0m\u001b[0;34m\u001b[0m\u001b[0m\n\u001b[1;32m      3\u001b[0m         \u001b[0;32mfor\u001b[0m \u001b[0mx\u001b[0m \u001b[0;32min\u001b[0m \u001b[0mitems\u001b[0m\u001b[0;34m:\u001b[0m\u001b[0;34m\u001b[0m\u001b[0m\n\u001b[0;32m----> 4\u001b[0;31m             \u001b[0mself\u001b[0m\u001b[0;34m.\u001b[0m\u001b[0m_validate\u001b[0m\u001b[0;34m(\u001b[0m\u001b[0mx\u001b[0m\u001b[0;34m)\u001b[0m\u001b[0;34m\u001b[0m\u001b[0m\n\u001b[0m\u001b[1;32m      5\u001b[0m         \u001b[0msuper\u001b[0m\u001b[0;34m(\u001b[0m\u001b[0;34m)\u001b[0m\u001b[0;34m.\u001b[0m\u001b[0m__init__\u001b[0m\u001b[0;34m(\u001b[0m\u001b[0mitems\u001b[0m\u001b[0;34m)\u001b[0m\u001b[0;34m\u001b[0m\u001b[0m\n\u001b[1;32m      6\u001b[0m \u001b[0;34m\u001b[0m\u001b[0m\n",
      "\u001b[0;32m<ipython-input-42-70976f8a4467>\u001b[0m in \u001b[0;36m_validate\u001b[0;34m(x)\u001b[0m\n\u001b[1;32m      8\u001b[0m     \u001b[0;32mdef\u001b[0m \u001b[0m_validate\u001b[0m\u001b[0;34m(\u001b[0m\u001b[0mx\u001b[0m\u001b[0;34m)\u001b[0m\u001b[0;34m:\u001b[0m\u001b[0;34m\u001b[0m\u001b[0m\n\u001b[1;32m      9\u001b[0m         \u001b[0;32mif\u001b[0m \u001b[0;32mnot\u001b[0m \u001b[0misinstance\u001b[0m\u001b[0;34m(\u001b[0m\u001b[0mx\u001b[0m\u001b[0;34m,\u001b[0m\u001b[0mint\u001b[0m\u001b[0;34m)\u001b[0m\u001b[0;34m:\u001b[0m\u001b[0;34m\u001b[0m\u001b[0m\n\u001b[0;32m---> 10\u001b[0;31m             \u001b[0;32mraise\u001b[0m \u001b[0mTypeError\u001b[0m\u001b[0;34m(\u001b[0m\u001b[0;34m'Int list only supports int values'\u001b[0m\u001b[0;34m)\u001b[0m\u001b[0;34m\u001b[0m\u001b[0m\n\u001b[0m\u001b[1;32m     11\u001b[0m \u001b[0;34m\u001b[0m\u001b[0m\n\u001b[1;32m     12\u001b[0m     \u001b[0;32mdef\u001b[0m \u001b[0madd\u001b[0m\u001b[0;34m(\u001b[0m\u001b[0mself\u001b[0m\u001b[0;34m,\u001b[0m\u001b[0mitem\u001b[0m\u001b[0;34m)\u001b[0m\u001b[0;34m:\u001b[0m\u001b[0;34m\u001b[0m\u001b[0m\n",
      "\u001b[0;31mTypeError\u001b[0m: Int list only supports int values"
     ]
    }
   ],
   "source": [
    "sil = SortedIntList([42,23,'2'])"
   ]
  },
  {
   "cell_type": "code",
   "execution_count": 59,
   "metadata": {
    "collapsed": true
   },
   "outputs": [],
   "source": [
    "sil.add(3)"
   ]
  },
  {
   "cell_type": "code",
   "execution_count": 60,
   "metadata": {},
   "outputs": [
    {
     "data": {
      "text/plain": [
       "SortedIntList([2, 3, 23, 42])"
      ]
     },
     "execution_count": 60,
     "metadata": {},
     "output_type": "execute_result"
    }
   ],
   "source": [
    "sil"
   ]
  },
  {
   "cell_type": "code",
   "execution_count": 61,
   "metadata": {
    "collapsed": true
   },
   "outputs": [],
   "source": [
    "# Which add is getting called ?"
   ]
  },
  {
   "cell_type": "markdown",
   "metadata": {},
   "source": [
    "# Details of Multiple Inheritance\n",
    "##### Before that, there are a few more details about multiple inheritance that we need to cover. First, if a class uses multiple inheritance, but defines no initializer, only the initializer of the first base class is automatically called when an instance of that class is created. Consider this simple example. (Typing) If we now create an instance of Sub(), we see that only the initializer for Base1 is called. Through the use of super() we could design these classes such that both the Base1 and Base2 initializers are called automatically, and we'll see how to do that soon. Another useful thing to know when thinking about inheritance is the dunder-bases member of class objects. Dunder-bases is simply a tuple of a class's base classes. As you can see here SortedIntList inherits from both IntList and SortedList, and these show up in the dunder- bases member of the SortedIntList class object. The entries in dunder-bases are in the same order as they were declared in the class definition. You don't have to use multiple inheritance to populate dunder- bases as you can see if you look at dunder-bases for our IntList class."
   ]
  },
  {
   "cell_type": "code",
   "execution_count": 64,
   "metadata": {
    "collapsed": true
   },
   "outputs": [],
   "source": [
    "class Base1:\n",
    "    def __init__(self):\n",
    "        print(\"base1.init\")\n",
    "        \n",
    "class Base2:\n",
    "    def __init__(self):\n",
    "        print(\"base2.init\")\n",
    "        \n",
    "class Sub(Base1,Base2):\n",
    "    pass\n",
    "    "
   ]
  },
  {
   "cell_type": "code",
   "execution_count": 66,
   "metadata": {},
   "outputs": [
    {
     "name": "stdout",
     "output_type": "stream",
     "text": [
      "base1.init\n"
     ]
    }
   ],
   "source": [
    "s =Sub()"
   ]
  },
  {
   "cell_type": "code",
   "execution_count": 68,
   "metadata": {},
   "outputs": [
    {
     "data": {
      "text/plain": [
       "(__main__.InList, __main__.SortedList)"
      ]
     },
     "execution_count": 68,
     "metadata": {},
     "output_type": "execute_result"
    }
   ],
   "source": [
    "SortedIntList.__bases__"
   ]
  },
  {
   "cell_type": "markdown",
   "metadata": {},
   "source": [
    "# Method Resolution Order\n",
    "##### We're finally ready to talk about this notion of method resolution order that we've mentioned several times now. In Python the method resolution order or simply MRO of a class is the ordering of a class's inheritance graph used to determine which implementation to use when a method is invoked. When you invoke a method on an object which has one or more base classes, the actual code that gets run may be defined on the class itself, one of its base classes, a base class of a base class, or any other member of the class's inheritance graph. The MRO of a class determines the order in which the inheritance graph is searched to find the correct implementation of the method. That's a lot to take in, but MRO is actually very simple, and we'll look at some examples that will make things more clearer. First though, we need to look at where our class's MRO is stored. The method resolution order for a class is stored on a special member called dunder-mro. Here you can see the MRO for SortedIntList. The dunder-mro attribute is a tuple of classes defining the method resolution order. You can also call the method MRO on a class to get the same information in a list rather than as a tuple. So, how is the MRO used to dispatch method calls? The answer is that when you call a method on an object in Python, Python looks at the MRO for that object's type. For each entry in the MRO starting at the front and working in order to the back, Python checks if that class has the requested method. As soon as Python finds a class with a matching method, it uses that method and the search stops. Let's see a simple example. First we'll define a few classes with a diamond inheritance graph. Here the various func methods simply report which class they come from. If we look at D's MRO, we see that Python will check D first, then B, then C, followed by A, and finally object when resolving calls to objects of type D. By the way, object is the ultimate base class of every class in Python, and we'll discuss that more later in this module. Based on that MRO, what should we expect if we call func on an instance of D? Because B was the first class in D's MRO with the method func, Python called B.func. If C had been earlier in the MRO than B, then C.func would have been called. We can see this by changing the order of B and C in the definition of D. After this change the new MRO for D puts C before B, and indeed calling func on a new instance of D results in a call to C's implementation. That's all there really is to it. MRO is an ordering of a class's inheritance graph that Python calculates for you. When Python resolves a method call, it simply walks along that ordering until a class supports the requested method. Let's see the MRO for our SortedIntList class. As you might expect, the MRO is SortedIntList followed by IntList followed by SortedList with SimpleList and object bringing up the rear, so calls to add on a SortedIntList, for example, were resolved to IntList.add since IntList is the first class in the MRO with an add method. This raises a very interesting question, however. When we wrote IntList, it never had any connection to the SortedList class, yet our SortedIntList as we've seen is properly maintaining both the sorting constraint and the type constraint of both SortedList and IntList. If add resolves to IntList.add() and if IntList is using super() to call its base class implementation, how is SortedList being invoked to maintain the sorting? The answer to that mystery has to do with how super() actually works."
   ]
  },
  {
   "cell_type": "code",
   "execution_count": 69,
   "metadata": {},
   "outputs": [
    {
     "data": {
      "text/plain": [
       "(__main__.SortedIntList,\n",
       " __main__.InList,\n",
       " __main__.SortedList,\n",
       " __main__.SimpleList,\n",
       " object)"
      ]
     },
     "execution_count": 69,
     "metadata": {},
     "output_type": "execute_result"
    }
   ],
   "source": [
    "SortedIntList.__mro__"
   ]
  },
  {
   "cell_type": "code",
   "execution_count": 70,
   "metadata": {},
   "outputs": [
    {
     "data": {
      "text/plain": [
       "[__main__.SortedIntList,\n",
       " __main__.InList,\n",
       " __main__.SortedList,\n",
       " __main__.SimpleList,\n",
       " object]"
      ]
     },
     "execution_count": 70,
     "metadata": {},
     "output_type": "execute_result"
    }
   ],
   "source": [
    "SortedIntList.mro()"
   ]
  },
  {
   "cell_type": "code",
   "execution_count": 74,
   "metadata": {
    "collapsed": true
   },
   "outputs": [],
   "source": [
    "class A:\n",
    "    def func(self):\n",
    "        return 'A.func'\n",
    "    \n",
    "class B(A):\n",
    "    def func(self):\n",
    "        return 'B.func'    \n",
    "    \n",
    "class C(A):\n",
    "    def func(self):\n",
    "        return 'C.func'    \n",
    "    \n",
    "class D(B,C):\n",
    "    pass    \n",
    "           "
   ]
  },
  {
   "cell_type": "code",
   "execution_count": 75,
   "metadata": {},
   "outputs": [
    {
     "data": {
      "text/plain": [
       "[__main__.D, __main__.B, __main__.C, __main__.A, object]"
      ]
     },
     "execution_count": 75,
     "metadata": {},
     "output_type": "execute_result"
    }
   ],
   "source": [
    "D.mro()"
   ]
  },
  {
   "cell_type": "code",
   "execution_count": 76,
   "metadata": {
    "collapsed": true
   },
   "outputs": [],
   "source": [
    "#What should we expect when we call  func on D\n",
    "d =D()"
   ]
  },
  {
   "cell_type": "code",
   "execution_count": 77,
   "metadata": {},
   "outputs": [
    {
     "data": {
      "text/plain": [
       "'B.func'"
      ]
     },
     "execution_count": 77,
     "metadata": {},
     "output_type": "execute_result"
    }
   ],
   "source": [
    "d.func()"
   ]
  },
  {
   "cell_type": "code",
   "execution_count": 86,
   "metadata": {
    "collapsed": true
   },
   "outputs": [],
   "source": [
    "class A:\n",
    "    def func(self):\n",
    "        return 'A.func'\n",
    "    \n",
    "class B(A):\n",
    "    def func(self):\n",
    "        return 'B.func'    \n",
    "    \n",
    "class C(A):\n",
    "    def func(self):\n",
    "        return 'C.func'    \n",
    "    \n",
    "class D(C,B):\n",
    "    pass    "
   ]
  },
  {
   "cell_type": "code",
   "execution_count": 87,
   "metadata": {},
   "outputs": [
    {
     "data": {
      "text/plain": [
       "[__main__.D, __main__.C, __main__.B, __main__.A, object]"
      ]
     },
     "execution_count": 87,
     "metadata": {},
     "output_type": "execute_result"
    }
   ],
   "source": [
    "D.mro()"
   ]
  },
  {
   "cell_type": "code",
   "execution_count": 88,
   "metadata": {},
   "outputs": [
    {
     "data": {
      "text/plain": [
       "'C.func'"
      ]
     },
     "execution_count": 88,
     "metadata": {},
     "output_type": "execute_result"
    }
   ],
   "source": [
    "d = D()\n",
    "d.func()"
   ]
  },
  {
   "cell_type": "code",
   "execution_count": 89,
   "metadata": {},
   "outputs": [
    {
     "data": {
      "text/plain": [
       "[__main__.SortedIntList,\n",
       " __main__.InList,\n",
       " __main__.SortedList,\n",
       " __main__.SimpleList,\n",
       " object]"
      ]
     },
     "execution_count": 89,
     "metadata": {},
     "output_type": "execute_result"
    }
   ],
   "source": [
    "SortedIntList.mro()"
   ]
  },
  {
   "cell_type": "markdown",
   "metadata": {},
   "source": [
    "# How is Method Resolution Order Calculated?\n",
    "###### Before we move on to looking at super() in detail, you might be curious to know how Python actually calculates the MRO for a class. The short answer is that Python uses an algorithm known as C3 for determining MRO. We won't go into the details of C3 except to mention a few important qualities of the MRO that it produces. First, a C3 MRO ensures that the subclasses come before their base classes. Second, C3 ensures that the base class order as defined in class definition is also preserved. Finally, C3 preserves the first two qualities independent of where in an inheritance graph you calculate the MRO. In other words, the MROs for all classes in graph agree with respect to relative class order. One outcome of the C3 algorithm is that not all inheritance declarations are allowed in Python. That is, some base class declarations will violate C3, and Python will refuse to compile them. Consider this simple example in the REPL. Here since B and C both inherit from A, B and C must both come before A in any MRO. This follows from one of the qualities that C3 preserves. However, since D's base class declaration puts A before C and since C3 also guarantees that base class declaration order is preserved, C3 cannot produce a consistent MRO. That is, it can't put A both before and after C. Understanding C3 is not critical or really even necessary for using Python, but it is an interesting topic for those curious about language design. If you want to learn more about it, you can find plenty of information on the web."
   ]
  },
  {
   "cell_type": "code",
   "execution_count": 91,
   "metadata": {},
   "outputs": [
    {
     "ename": "TypeError",
     "evalue": "Cannot create a consistent method resolution\norder (MRO) for bases A, C",
     "output_type": "error",
     "traceback": [
      "\u001b[0;31m---------------------------------------------------------------------------\u001b[0m",
      "\u001b[0;31mTypeError\u001b[0m                                 Traceback (most recent call last)",
      "\u001b[0;32m<ipython-input-91-e2b412f99787>\u001b[0m in \u001b[0;36m<module>\u001b[0;34m()\u001b[0m\n\u001b[1;32m     11\u001b[0m \u001b[0;31m# since B and C both inherit from A\u001b[0m\u001b[0;34m\u001b[0m\u001b[0;34m\u001b[0m\u001b[0m\n\u001b[1;32m     12\u001b[0m \u001b[0;31m# B and C must come before A\u001b[0m\u001b[0;34m\u001b[0m\u001b[0;34m\u001b[0m\u001b[0m\n\u001b[0;32m---> 13\u001b[0;31m \u001b[0;32mclass\u001b[0m \u001b[0mD\u001b[0m\u001b[0;34m(\u001b[0m\u001b[0mB\u001b[0m\u001b[0;34m,\u001b[0m\u001b[0mA\u001b[0m\u001b[0;34m,\u001b[0m\u001b[0mC\u001b[0m\u001b[0;34m)\u001b[0m\u001b[0;34m:\u001b[0m\u001b[0;34m\u001b[0m\u001b[0m\n\u001b[0m\u001b[1;32m     14\u001b[0m     \u001b[0;32mpass\u001b[0m\u001b[0;34m\u001b[0m\u001b[0m\n",
      "\u001b[0;31mTypeError\u001b[0m: Cannot create a consistent method resolution\norder (MRO) for bases A, C"
     ]
    }
   ],
   "source": [
    "# Consider this\n",
    "class A:\n",
    "    pass\n",
    "\n",
    "class B(A):\n",
    "    pass\n",
    "\n",
    "class C(A):\n",
    "    pass\n",
    "\n",
    "# since B and C both inherit from A \n",
    "# B and C must come before A\n",
    "class D(B,A,C):\n",
    "    pass"
   ]
  },
  {
   "cell_type": "code",
   "execution_count": 92,
   "metadata": {
    "collapsed": true
   },
   "outputs": [],
   "source": [
    "# Consider this\n",
    "class A:\n",
    "    pass\n",
    "\n",
    "class B(A):\n",
    "    pass\n",
    "\n",
    "class C(A):\n",
    "    pass\n",
    "\n",
    "# since B and C both inherit from A \n",
    "# B and C must come before A\n",
    "class D(B,C,A):\n",
    "    pass"
   ]
  },
  {
   "cell_type": "markdown",
   "metadata": {},
   "source": [
    "# The Built-In super() Function\n",
    "###### Finally we have enough background to understand super(). So far we've seen super() used to access methods on base classes, for example, in SortedList.add where we used super() to call SimpleList.add before sorting the contents. From this example you might conclude that super() somehow returns the base class of a method's class and that you can then invoke methods on the base class part of an object. This is only partly true. It's hard to sum up what super() does in a single sentence, but here's an attempt. Given a method resolution order and a class C in that MRO, super() gives you an object which resolves methods using only the part of the MRO which comes after C. In other words, super() doesn't work with the base classes of a class, but instead it works with the MRO of the type of the object on which a method was originally invoked. The distinction is subtle, but very important, and as we'll see it resolves the mystery of how SortedIntList works. First, let's look at the details of calling super(). Super() can be called in several ways, but all of them return a so-called super() proxy object. You can call any method on a super() proxy, and it will route the call to the correct method implementation for you if such a method exists. There are two high-level types of super() proxies, bound and unbound. Bound proxies, as the name suggests, are bound to instances or class objects. Unbound proxies are not bound, and in fact don't do any method dispatch themselves. Unbound proxies are primarily an implementation detail for other Python features. Some prominent Python developers consider them a bit of a wart on the language, and really they are beyond the scope of this course, so we won't discuss them in any more detail. Bound proxies, on the other hand, are an important part of mastering Python, so we'll discuss them in detail. From now on when I talk about proxies or super() proxies, understand that I'm talking about bound proxies."
   ]
  },
  {
   "cell_type": "markdown",
   "metadata": {},
   "source": [
    "# Class-Bound Super Proxies\n",
    "###### So, how do we use super() to create proxies? As I mentioned a few seconds ago, bound proxies can be bound to either classes or instances of classes. I will call these class-bound and instance-bound proxies respectively. To create a class-bound proxy you use this form. Here both arguments are class objects. The second class must be a subclass of or the same class as the first argument. When you invoke a method on the proxy, here's what happens. First, Python finds the MRO for derived-class. Second, it then finds base-class in that MRO. Third, it takes everything after base-class in the MRO and finds the first class in that sequence with a method name matching the request. Let's see that in action with our SortedIntList. First, let's see the MRO for SortedIntList. It's SortedIntList, IntList, SortedList, SimpleList, and finally object. So, what do we get if we call super() with the arguments SortedList and SortedIntList? That gives us a proxy bound to the arguments we'd expect. Well, what if you use that proxy to resolve a method, say add? Applying the algorithm described above, Python first finds the MRO for the second argument, which we just printed a few seconds ago. It then finds SortedList in that MRO and takes everything after SortedList giving us an MRO containing just SimpleList and object. It then finds the first class in that MRO with an add method, which of course is SimpleList. Let's see if we're right. Well, there you have it. Super() returned a proxy, which when asked for an add method, returned add from the SimpleList class. Now that we have a method, we should be able to call it right? Aah, right. Our proxy is bound to a class, not an instance, so we can't invoke it. If we used the proxy to look up a static method or class method, however, we could invoke it directly. To illustrate this, let's use a class-bound super proxy to call the _validate static method on IntList. This is probably not the kind of code you'd write in practice, but it does show how super() works when bound to class objects. Note that Python will raise an exception if the second argument is not a subclass of the first."
   ]
  },
  {
   "cell_type": "code",
   "execution_count": 93,
   "metadata": {},
   "outputs": [
    {
     "data": {
      "text/plain": [
       "[__main__.SortedIntList,\n",
       " __main__.InList,\n",
       " __main__.SortedList,\n",
       " __main__.SimpleList,\n",
       " object]"
      ]
     },
     "execution_count": 93,
     "metadata": {},
     "output_type": "execute_result"
    }
   ],
   "source": [
    "SortedIntList.mro()"
   ]
  },
  {
   "cell_type": "code",
   "execution_count": 94,
   "metadata": {},
   "outputs": [
    {
     "data": {
      "text/plain": [
       "<super: __main__.SortedList, __main__.SortedIntList>"
      ]
     },
     "execution_count": 94,
     "metadata": {},
     "output_type": "execute_result"
    }
   ],
   "source": [
    "super(SortedList,SortedIntList)"
   ]
  },
  {
   "cell_type": "code",
   "execution_count": 96,
   "metadata": {},
   "outputs": [
    {
     "data": {
      "text/plain": [
       "<function __main__.SimpleList.add>"
      ]
     },
     "execution_count": 96,
     "metadata": {},
     "output_type": "execute_result"
    }
   ],
   "source": [
    "# lets find out \n",
    "super(SortedList,SortedIntList).add"
   ]
  },
  {
   "cell_type": "code",
   "execution_count": 99,
   "metadata": {},
   "outputs": [],
   "source": [
    "super(SortedIntList,SortedIntList)._validate(5)"
   ]
  },
  {
   "cell_type": "code",
   "execution_count": 100,
   "metadata": {},
   "outputs": [
    {
     "ename": "TypeError",
     "evalue": "Int list only supports int values",
     "output_type": "error",
     "traceback": [
      "\u001b[0;31m---------------------------------------------------------------------------\u001b[0m",
      "\u001b[0;31mTypeError\u001b[0m                                 Traceback (most recent call last)",
      "\u001b[0;32m<ipython-input-100-a9dbc1e0b00a>\u001b[0m in \u001b[0;36m<module>\u001b[0;34m()\u001b[0m\n\u001b[0;32m----> 1\u001b[0;31m \u001b[0msuper\u001b[0m\u001b[0;34m(\u001b[0m\u001b[0mSortedIntList\u001b[0m\u001b[0;34m,\u001b[0m\u001b[0mSortedIntList\u001b[0m\u001b[0;34m)\u001b[0m\u001b[0;34m.\u001b[0m\u001b[0m_validate\u001b[0m\u001b[0;34m(\u001b[0m\u001b[0;34m\"hello\"\u001b[0m\u001b[0;34m)\u001b[0m\u001b[0;34m\u001b[0m\u001b[0m\n\u001b[0m",
      "\u001b[0;32m<ipython-input-42-70976f8a4467>\u001b[0m in \u001b[0;36m_validate\u001b[0;34m(x)\u001b[0m\n\u001b[1;32m      8\u001b[0m     \u001b[0;32mdef\u001b[0m \u001b[0m_validate\u001b[0m\u001b[0;34m(\u001b[0m\u001b[0mx\u001b[0m\u001b[0;34m)\u001b[0m\u001b[0;34m:\u001b[0m\u001b[0;34m\u001b[0m\u001b[0m\n\u001b[1;32m      9\u001b[0m         \u001b[0;32mif\u001b[0m \u001b[0;32mnot\u001b[0m \u001b[0misinstance\u001b[0m\u001b[0;34m(\u001b[0m\u001b[0mx\u001b[0m\u001b[0;34m,\u001b[0m\u001b[0mint\u001b[0m\u001b[0;34m)\u001b[0m\u001b[0;34m:\u001b[0m\u001b[0;34m\u001b[0m\u001b[0m\n\u001b[0;32m---> 10\u001b[0;31m             \u001b[0;32mraise\u001b[0m \u001b[0mTypeError\u001b[0m\u001b[0;34m(\u001b[0m\u001b[0;34m'Int list only supports int values'\u001b[0m\u001b[0;34m)\u001b[0m\u001b[0;34m\u001b[0m\u001b[0m\n\u001b[0m\u001b[1;32m     11\u001b[0m \u001b[0;34m\u001b[0m\u001b[0m\n\u001b[1;32m     12\u001b[0m     \u001b[0;32mdef\u001b[0m \u001b[0madd\u001b[0m\u001b[0;34m(\u001b[0m\u001b[0mself\u001b[0m\u001b[0;34m,\u001b[0m\u001b[0mitem\u001b[0m\u001b[0;34m)\u001b[0m\u001b[0;34m:\u001b[0m\u001b[0;34m\u001b[0m\u001b[0m\n",
      "\u001b[0;31mTypeError\u001b[0m: Int list only supports int values"
     ]
    }
   ],
   "source": [
    "super(SortedIntList,SortedIntList)._validate(\"hello\")"
   ]
  },
  {
   "cell_type": "markdown",
   "metadata": {},
   "source": [
    "# Instance-Bound Super Proxies\n",
    "##### Instance-bound super proxies work very much like class-bound proxies, but instead of binding to a class object they bind to an instance. To create an instance-bound proxy, call super() like this. Here the first argument must be a class object, and the second argument must be an instance of that class or any class derived from it. The behavior of the super proxy in this case is like this. First, Python finds the MRO for the type of the second argument. Second, Python finds the location of the first argument to super in that MRO. Remember that the instance must be derived from the class, so the class must be in the MRO. Third, Python finally takes everything in the MRO after the class and uses that as the MRO for resolving methods. Importantly, since the proxy is bound to an instance, we can call the methods after they've been found. Let's try that with our SortedIntList example. (Typing) So, the proxy is bound to a SortedIntList and will start method resolution from SortedIntList's MRO at the point after SortedList. As you'll recall, the next entry in SortedIntList's MRO after SortedList is SimpleList, so this super proxy will be directly using SimpleList's methods bypassing our constraint checks. Let's see if that works. Oh dear. Our SortedIntList not only isn't sorted anymore, but it also contains references to classic British TV. Clearly you need to use super() with care or you can end up breaking your designs."
   ]
  },
  {
   "cell_type": "code",
   "execution_count": 101,
   "metadata": {
    "collapsed": true
   },
   "outputs": [],
   "source": [
    "sil = SortedIntList([5,15,10])"
   ]
  },
  {
   "cell_type": "code",
   "execution_count": 102,
   "metadata": {},
   "outputs": [
    {
     "data": {
      "text/plain": [
       "SortedIntList([5, 10, 15])"
      ]
     },
     "execution_count": 102,
     "metadata": {},
     "output_type": "execute_result"
    }
   ],
   "source": [
    "sil"
   ]
  },
  {
   "cell_type": "code",
   "execution_count": 104,
   "metadata": {},
   "outputs": [
    {
     "data": {
      "text/plain": [
       "[__main__.SortedIntList,\n",
       " __main__.InList,\n",
       " __main__.SortedList,\n",
       " __main__.SimpleList,\n",
       " object]"
      ]
     },
     "execution_count": 104,
     "metadata": {},
     "output_type": "execute_result"
    }
   ],
   "source": [
    "SortedIntList.mro()"
   ]
  },
  {
   "cell_type": "code",
   "execution_count": 103,
   "metadata": {},
   "outputs": [
    {
     "data": {
      "text/plain": [
       "<super: __main__.SortedList, SortedIntList([5, 10, 15])>"
      ]
     },
     "execution_count": 103,
     "metadata": {},
     "output_type": "execute_result"
    }
   ],
   "source": [
    "super(SortedList,sil)"
   ]
  },
  {
   "cell_type": "code",
   "execution_count": 105,
   "metadata": {
    "collapsed": true
   },
   "outputs": [],
   "source": [
    "super(SortedList,sil).add(6)"
   ]
  },
  {
   "cell_type": "code",
   "execution_count": 106,
   "metadata": {},
   "outputs": [
    {
     "data": {
      "text/plain": [
       "SortedIntList([5, 10, 15, 6])"
      ]
     },
     "execution_count": 106,
     "metadata": {},
     "output_type": "execute_result"
    }
   ],
   "source": [
    "sil\n"
   ]
  },
  {
   "cell_type": "code",
   "execution_count": 107,
   "metadata": {
    "collapsed": true
   },
   "outputs": [],
   "source": [
    "#Be sure to have a proper user of super otherwise it may \n",
    "# Break your design "
   ]
  },
  {
   "cell_type": "markdown",
   "metadata": {},
   "source": [
    "# Calling super() Without Arguments\n",
    "###### We now know how super() works for creating class and instance-bound proxy objects, and we've seen both in action. The examples we've shown though all pass parameters to super() while the examples we saw earlier in this module, for example in the implementation of SortedIntList, didn't use any parameters at all. It turns our that you can call super() in a method with no arguments, and Python will sort out the arguments for you. If you're in an instance method, that is a method which takes an instance as its first argument and you call super() without arguments, that's the same as calling super() with the method's class as the first argument and self as the second. In the simple case of single inheritance then, this is equivalent to looking for a method on the base class. If you call super() without arguments in a class method, Python sets the arguments for you so that it's equivalent to calling super() with the method's class as the first argument and the method's first argument, that is the class argument, as the second. Again, in the typical case this is equivalent to calling the base class's method. In both cases then, for instance methods and class methods, calling super with no arguments puts the method's class as the first argument to super() and the first argument to the method itself as the second argument to super."
   ]
  },
  {
   "cell_type": "code",
   "execution_count": 108,
   "metadata": {
    "collapsed": true
   },
   "outputs": [],
   "source": [
    "class nothing:\n",
    "    pass"
   ]
  },
  {
   "cell_type": "code",
   "execution_count": 109,
   "metadata": {},
   "outputs": [
    {
     "data": {
      "text/plain": [
       "object"
      ]
     },
     "execution_count": 109,
     "metadata": {},
     "output_type": "execute_result"
    }
   ],
   "source": [
    "nothing.__base__"
   ]
  },
  {
   "cell_type": "code",
   "execution_count": 110,
   "metadata": {},
   "outputs": [
    {
     "data": {
      "text/plain": [
       "['__class__',\n",
       " '__delattr__',\n",
       " '__dir__',\n",
       " '__doc__',\n",
       " '__eq__',\n",
       " '__format__',\n",
       " '__ge__',\n",
       " '__getattribute__',\n",
       " '__gt__',\n",
       " '__hash__',\n",
       " '__init__',\n",
       " '__init_subclass__',\n",
       " '__le__',\n",
       " '__lt__',\n",
       " '__ne__',\n",
       " '__new__',\n",
       " '__reduce__',\n",
       " '__reduce_ex__',\n",
       " '__repr__',\n",
       " '__setattr__',\n",
       " '__sizeof__',\n",
       " '__str__',\n",
       " '__subclasshook__']"
      ]
     },
     "execution_count": 110,
     "metadata": {},
     "output_type": "execute_result"
    }
   ],
   "source": [
    "dir(object)"
   ]
  },
  {
   "cell_type": "code",
   "execution_count": null,
   "metadata": {
    "collapsed": true
   },
   "outputs": [],
   "source": []
  }
 ],
 "metadata": {
  "kernelspec": {
   "display_name": "Python 3",
   "language": "python",
   "name": "python3"
  },
  "language_info": {
   "codemirror_mode": {
    "name": "ipython",
    "version": 3
   },
   "file_extension": ".py",
   "mimetype": "text/x-python",
   "name": "python",
   "nbconvert_exporter": "python",
   "pygments_lexer": "ipython3",
   "version": "3.6.1"
  }
 },
 "nbformat": 4,
 "nbformat_minor": 2
}
